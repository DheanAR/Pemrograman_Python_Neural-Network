{
  "nbformat": 4,
  "nbformat_minor": 0,
  "metadata": {
    "colab": {
      "name": "Tugas Minggu 12_Dhean Ardani R_1101194080_TT43G7",
      "provenance": [],
      "include_colab_link": true
    },
    "kernelspec": {
      "name": "python3",
      "display_name": "Python 3"
    }
  },
  "cells": [
    {
      "cell_type": "markdown",
      "metadata": {
        "id": "view-in-github",
        "colab_type": "text"
      },
      "source": [
        "<a href=\"https://colab.research.google.com/github/DheanAR/Pemrograman_Python_Neural-Network/blob/main/Tugas_Minggu_12_Dhean_Ardani_R_1101194080_TT43G7.ipynb\" target=\"_parent\"><img src=\"https://colab.research.google.com/assets/colab-badge.svg\" alt=\"Open In Colab\"/></a>"
      ]
    },
    {
      "cell_type": "code",
      "metadata": {
        "id": "imcKeVPxTOOq"
      },
      "source": [
        "import numpy as np\r\n",
        "\r\n",
        "#Pathloss\r\n",
        "def pathloss(d,fc,area,ht,hr):\r\n",
        "  if fc >= 400 and fc <= 1500:\r\n",
        "    C1 = 69.55\r\n",
        "    C2 = 26.16\r\n",
        "  elif fc > 1500 and fc <= 2000:\r\n",
        "    C1 = 46.3\r\n",
        "    C2 = 33.9\r\n",
        "  if area == '1':\r\n",
        "    cm = 0\r\n",
        "  elif area == '2':\r\n",
        "    cm = -2*(np.log10(fc/28))**2 - 5.4  \r\n",
        "  elif area == '3':\r\n",
        "    cm = -4.78*(np.log10(fc))**2 + 18.33*np.log10(fc) - 40.94\r\n",
        "  \r\n",
        "  d = d*1e3\r\n",
        "  fc = fc*1e6\r\n",
        "  ahr = (1.1 *np.log10(fc) - 0.7)*hr - (1.56 * np.log10(fc) - 0.8)\r\n",
        "  PL = C1+C2*np.log10(fc) - 13.83*np.log10(ht) - ahr + (44.9 - 6.55*np.log10(ht))*np.log10(d) + cm\r\n",
        "\r\n",
        "  return PL"
      ],
      "execution_count": 10,
      "outputs": []
    },
    {
      "cell_type": "code",
      "metadata": {
        "colab": {
          "base_uri": "https://localhost:8080/"
        },
        "id": "-5uA-uN7TgbE",
        "outputId": "fc660cf0-4c0b-4b16-aa60-af501057d5bf"
      },
      "source": [
        "#Input Data Parameter\r\n",
        "d = int(input(\"Inputkan Jarak dari Tx ke Rx (dKm) :\"))\r\n",
        "fc = int(input(\"Inputkan Frekuensi (150 s.d. 2000 MHz) (dMHz)  : \"))\r\n",
        "area = input(\"Pilihlah Tipe Area :\\n1. Urban \\n2. Suburban \\n3. Open \\nPilihan : \") \r\n",
        "ht = int(input(\"Inputkan Tinggi Transmitter (30 s.d. 200 m) : \"))\r\n",
        "hr = int(input(\"Inputkan Tinggi Receiver (1 s.d. 30 m) : \"))"
      ],
      "execution_count": 11,
      "outputs": [
        {
          "output_type": "stream",
          "text": [
            "Inputkan Jarak dari Tx ke Rx (dKm) :1858\n",
            "Inputkan Frekuensi (150 s.d. 2000 MHz) (dMHz)  : 1777\n",
            "Pilihlah Tipe Area :\n",
            "1. Urban \n",
            "2. Suburban \n",
            "3. Open \n",
            "Pilihan : 1\n",
            "Inputkan Tinggi Transmitter (30 s.d. 200 m) : 147\n",
            "Inputkan Tinggi Receiver (1 s.d. 30 m) : 25\n"
          ],
          "name": "stdout"
        }
      ]
    },
    {
      "cell_type": "code",
      "metadata": {
        "colab": {
          "base_uri": "https://localhost:8080/"
        },
        "id": "ShODvzfIUAnq",
        "outputId": "0f10f6d6-0e6b-4504-abb1-a8aec89c40bd"
      },
      "source": [
        "#Memanggil Fungsi\r\n",
        "pl = pathloss(d,fc,area,ht,hr)\r\n",
        "print('Pathloss =',round(pl,2),'dB')"
      ],
      "execution_count": 12,
      "outputs": [
        {
          "output_type": "stream",
          "text": [
            "Pathloss = 299.14 dB\n"
          ],
          "name": "stdout"
        }
      ]
    },
    {
      "cell_type": "code",
      "metadata": {
        "id": "_JqdMhmTUH1a"
      },
      "source": [
        ""
      ],
      "execution_count": 12,
      "outputs": []
    }
  ]
}